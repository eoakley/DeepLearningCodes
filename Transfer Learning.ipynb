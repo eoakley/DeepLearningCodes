{
 "cells": [
  {
   "cell_type": "code",
   "execution_count": 1,
   "metadata": {},
   "outputs": [
    {
     "name": "stderr",
     "output_type": "stream",
     "text": [
      "C:\\ProgramData\\Anaconda3\\lib\\site-packages\\h5py\\__init__.py:34: FutureWarning: Conversion of the second argument of issubdtype from `float` to `np.floating` is deprecated. In future, it will be treated as `np.float64 == np.dtype(float).type`.\n",
      "  from ._conv import register_converters as _register_converters\n",
      "Using TensorFlow backend.\n"
     ]
    }
   ],
   "source": [
    "import numpy as np\n",
    "import matplotlib.pyplot as plt\n",
    "import keras"
   ]
  },
  {
   "cell_type": "code",
   "execution_count": 2,
   "metadata": {
    "collapsed": true
   },
   "outputs": [],
   "source": [
    "%matplotlib inline"
   ]
  },
  {
   "cell_type": "code",
   "execution_count": 3,
   "metadata": {
    "collapsed": true
   },
   "outputs": [],
   "source": [
    "from keras.preprocessing.image import ImageDataGenerator"
   ]
  },
  {
   "cell_type": "code",
   "execution_count": 4,
   "metadata": {
    "collapsed": true
   },
   "outputs": [],
   "source": [
    "from keras.applications.resnet50 import ResNet50, preprocess_input"
   ]
  },
  {
   "cell_type": "code",
   "execution_count": 5,
   "metadata": {},
   "outputs": [
    {
     "ename": "ModuleNotFoundError",
     "evalue": "No module named 'tqdm'",
     "output_type": "error",
     "traceback": [
      "\u001b[1;31m---------------------------------------------------------------------------\u001b[0m",
      "\u001b[1;31mModuleNotFoundError\u001b[0m                       Traceback (most recent call last)",
      "\u001b[1;32m<ipython-input-5-6b39a9324e6c>\u001b[0m in \u001b[0;36m<module>\u001b[1;34m()\u001b[0m\n\u001b[1;32m----> 1\u001b[1;33m \u001b[1;32mfrom\u001b[0m \u001b[0mtqdm\u001b[0m \u001b[1;32mimport\u001b[0m \u001b[0mtqdm\u001b[0m\u001b[1;33m\u001b[0m\u001b[0m\n\u001b[0m",
      "\u001b[1;31mModuleNotFoundError\u001b[0m: No module named 'tqdm'"
     ]
    }
   ],
   "source": [
    "from tqdm import tqdm"
   ]
  },
  {
   "cell_type": "code",
   "execution_count": 16,
   "metadata": {},
   "outputs": [
    {
     "name": "stderr",
     "output_type": "stream",
     "text": [
      "D:\\Anaconda3\\envs\\keras-gpu\\lib\\site-packages\\keras_applications\\resnet50.py:263: UserWarning: The output shape of `ResNet50(include_top=False)` has been changed since Keras 2.2.0.\n",
      "  warnings.warn('The output shape of `ResNet50(include_top=False)` '\n"
     ]
    }
   ],
   "source": [
    "resnet = ResNet50(include_top=False, weights='imagenet')"
   ]
  },
  {
   "cell_type": "markdown",
   "metadata": {},
   "source": [
    "# Pre process images, transform in tensors"
   ]
  },
  {
   "cell_type": "code",
   "execution_count": 17,
   "metadata": {
    "collapsed": true
   },
   "outputs": [],
   "source": [
    "train_data_dir = 'data/train/'\n",
    "validation_data_dir = 'data/valid/'\n",
    "test_data_dir = 'data/test/'"
   ]
  },
  {
   "cell_type": "code",
   "execution_count": 74,
   "metadata": {
    "collapsed": true
   },
   "outputs": [],
   "source": [
    "img_height, img_width = 224, 224\n",
    "batch_size = 100"
   ]
  },
  {
   "cell_type": "code",
   "execution_count": 6,
   "metadata": {},
   "outputs": [
    {
     "ename": "NameError",
     "evalue": "name 'train_data_dir' is not defined",
     "output_type": "error",
     "traceback": [
      "\u001b[1;31m---------------------------------------------------------------------------\u001b[0m",
      "\u001b[1;31mNameError\u001b[0m                                 Traceback (most recent call last)",
      "\u001b[1;32m<ipython-input-6-9a6246c0a543>\u001b[0m in \u001b[0;36m<module>\u001b[1;34m()\u001b[0m\n\u001b[0;32m      4\u001b[0m \u001b[1;33m\u001b[0m\u001b[0m\n\u001b[0;32m      5\u001b[0m train_generator = train_datagen.flow_from_directory(\n\u001b[1;32m----> 6\u001b[1;33m \u001b[0mtrain_data_dir\u001b[0m\u001b[1;33m,\u001b[0m \u001b[0mshuffle\u001b[0m\u001b[1;33m=\u001b[0m\u001b[1;32mFalse\u001b[0m\u001b[1;33m,\u001b[0m\u001b[1;33m\u001b[0m\u001b[0m\n\u001b[0m\u001b[0;32m      7\u001b[0m \u001b[0mtarget_size\u001b[0m \u001b[1;33m=\u001b[0m \u001b[1;33m(\u001b[0m\u001b[0mimg_height\u001b[0m\u001b[1;33m,\u001b[0m \u001b[0mimg_width\u001b[0m\u001b[1;33m)\u001b[0m\u001b[1;33m,\u001b[0m\u001b[1;33m\u001b[0m\u001b[0m\n\u001b[0;32m      8\u001b[0m \u001b[0mbatch_size\u001b[0m \u001b[1;33m=\u001b[0m \u001b[0mbatch_size\u001b[0m\u001b[1;33m,\u001b[0m\u001b[1;33m\u001b[0m\u001b[0m\n",
      "\u001b[1;31mNameError\u001b[0m: name 'train_data_dir' is not defined"
     ]
    }
   ],
   "source": [
    "train_datagen = ImageDataGenerator()\n",
    "valid_datagen = ImageDataGenerator()\n",
    "test_datagen = ImageDataGenerator()\n",
    "\n",
    "train_generator = train_datagen.flow_from_directory(\n",
    "train_data_dir, shuffle=False,\n",
    "target_size = (img_height, img_width),\n",
    "batch_size = batch_size, \n",
    "class_mode = \"categorical\")\n",
    "\n",
    "validation_generator = valid_datagen.flow_from_directory(\n",
    "validation_data_dir, shuffle=False,\n",
    "target_size = (img_height, img_width),\n",
    "class_mode = \"categorical\")\n",
    "\n",
    "test_generator = test_datagen.flow_from_directory(\n",
    "test_data_dir, shuffle=False,\n",
    "target_size = (img_height, img_width),\n",
    "class_mode = \"categorical\")"
   ]
  },
  {
   "cell_type": "code",
   "execution_count": 247,
   "metadata": {
    "collapsed": true
   },
   "outputs": [],
   "source": [
    "train_features = resnet.predict_generator(train_generator, workers=16)\n",
    "valid_features = resnet.predict_generator(validation_generator, workers=16)\n",
    "test_features = resnet.predict_generator(test_generator, workers=16)"
   ]
  },
  {
   "cell_type": "code",
   "execution_count": 248,
   "metadata": {
    "collapsed": true
   },
   "outputs": [],
   "source": [
    "#one hot target\n",
    "from keras.utils import to_categorical"
   ]
  },
  {
   "cell_type": "code",
   "execution_count": 249,
   "metadata": {
    "collapsed": true
   },
   "outputs": [],
   "source": [
    "train_labels = to_categorical(train_generator.classes)\n",
    "valid_labels = to_categorical(validation_generator.classes)\n",
    "test_labels = to_categorical(test_generator.classes)"
   ]
  },
  {
   "cell_type": "code",
   "execution_count": 250,
   "metadata": {},
   "outputs": [
    {
     "data": {
      "text/plain": [
       "array([[1., 0., 0.],\n",
       "       [1., 0., 0.],\n",
       "       [1., 0., 0.],\n",
       "       ...,\n",
       "       [0., 0., 1.],\n",
       "       [0., 0., 1.],\n",
       "       [0., 0., 1.]], dtype=float32)"
      ]
     },
     "execution_count": 250,
     "metadata": {},
     "output_type": "execute_result"
    }
   ],
   "source": [
    "test_labels"
   ]
  },
  {
   "cell_type": "markdown",
   "metadata": {},
   "source": [
    "## Transfer Learning Architecture"
   ]
  },
  {
   "cell_type": "code",
   "execution_count": 251,
   "metadata": {
    "collapsed": true
   },
   "outputs": [],
   "source": [
    "from keras.models import Sequential\n",
    "from keras.layers import Dense, Dropout, Activation, Flatten\n",
    "from keras.layers import Convolution2D, MaxPooling2D, GlobalAveragePooling2D"
   ]
  },
  {
   "cell_type": "code",
   "execution_count": 252,
   "metadata": {
    "collapsed": true
   },
   "outputs": [],
   "source": [
    "model = Sequential()"
   ]
  },
  {
   "cell_type": "code",
   "execution_count": 253,
   "metadata": {
    "collapsed": true
   },
   "outputs": [],
   "source": [
    "model.add(GlobalAveragePooling2D(input_shape=(7, 7, 2048)))\n",
    "#model.add(Flatten(input_shape=(7, 7, 2048)))\n",
    "model.add(Dropout(0.25))\n",
    "model.add(Dense(20))\n",
    "model.add(Dropout(0.25))\n",
    "model.add(Dense(3, activation='softmax'))"
   ]
  },
  {
   "cell_type": "code",
   "execution_count": 254,
   "metadata": {
    "collapsed": true
   },
   "outputs": [],
   "source": [
    "model.compile(optimizer='adam', loss=keras.losses.categorical_crossentropy, metrics=['accuracy'])"
   ]
  },
  {
   "cell_type": "code",
   "execution_count": 255,
   "metadata": {
    "scrolled": true
   },
   "outputs": [
    {
     "name": "stdout",
     "output_type": "stream",
     "text": [
      "_________________________________________________________________\n",
      "Layer (type)                 Output Shape              Param #   \n",
      "=================================================================\n",
      "global_average_pooling2d_16  (None, 2048)              0         \n",
      "_________________________________________________________________\n",
      "dropout_9 (Dropout)          (None, 2048)              0         \n",
      "_________________________________________________________________\n",
      "dense_24 (Dense)             (None, 20)                40980     \n",
      "_________________________________________________________________\n",
      "dropout_10 (Dropout)         (None, 20)                0         \n",
      "_________________________________________________________________\n",
      "dense_25 (Dense)             (None, 3)                 63        \n",
      "=================================================================\n",
      "Total params: 41,043\n",
      "Trainable params: 41,043\n",
      "Non-trainable params: 0\n",
      "_________________________________________________________________\n"
     ]
    }
   ],
   "source": [
    "model.summary()"
   ]
  },
  {
   "cell_type": "code",
   "execution_count": 256,
   "metadata": {
    "scrolled": false
   },
   "outputs": [
    {
     "name": "stdout",
     "output_type": "stream",
     "text": [
      "Train on 2000 samples, validate on 150 samples\n",
      "Epoch 1/100\n",
      " - 3s - loss: 1.0328 - acc: 0.5985 - val_loss: 0.9871 - val_acc: 0.5400\n",
      "Epoch 2/100\n",
      " - 1s - loss: 0.8292 - acc: 0.6660 - val_loss: 0.9507 - val_acc: 0.5400\n",
      "Epoch 3/100\n",
      " - 1s - loss: 0.7192 - acc: 0.7020 - val_loss: 0.8969 - val_acc: 0.5933\n",
      "Epoch 4/100\n",
      " - 1s - loss: 0.6976 - acc: 0.7135 - val_loss: 0.9268 - val_acc: 0.6200\n",
      "Epoch 5/100\n",
      " - 1s - loss: 0.6716 - acc: 0.7240 - val_loss: 0.8986 - val_acc: 0.6267\n",
      "Epoch 6/100\n",
      " - 1s - loss: 0.6381 - acc: 0.7305 - val_loss: 0.9676 - val_acc: 0.6267\n",
      "Epoch 7/100\n",
      " - 1s - loss: 0.6389 - acc: 0.7325 - val_loss: 0.8332 - val_acc: 0.6667\n",
      "Epoch 8/100\n",
      " - 1s - loss: 0.6064 - acc: 0.7545 - val_loss: 0.7985 - val_acc: 0.6267\n",
      "Epoch 9/100\n",
      " - 1s - loss: 0.5763 - acc: 0.7635 - val_loss: 0.7716 - val_acc: 0.6267\n",
      "Epoch 10/100\n",
      " - 1s - loss: 0.5648 - acc: 0.7595 - val_loss: 0.7897 - val_acc: 0.6600\n",
      "Epoch 11/100\n",
      " - 1s - loss: 0.5447 - acc: 0.7780 - val_loss: 0.8280 - val_acc: 0.6800\n",
      "Epoch 12/100\n",
      " - 1s - loss: 0.5423 - acc: 0.7700 - val_loss: 0.8182 - val_acc: 0.6533\n",
      "Epoch 13/100\n",
      " - 1s - loss: 0.5400 - acc: 0.7750 - val_loss: 0.7836 - val_acc: 0.6467\n",
      "Epoch 14/100\n",
      " - 1s - loss: 0.5289 - acc: 0.7800 - val_loss: 0.7754 - val_acc: 0.6400\n",
      "Epoch 15/100\n",
      " - 1s - loss: 0.5125 - acc: 0.7955 - val_loss: 0.8055 - val_acc: 0.6667\n",
      "Epoch 16/100\n",
      " - 1s - loss: 0.5062 - acc: 0.7925 - val_loss: 0.8179 - val_acc: 0.6733\n",
      "Epoch 17/100\n",
      " - 1s - loss: 0.5071 - acc: 0.8025 - val_loss: 0.7568 - val_acc: 0.6533\n",
      "Epoch 18/100\n",
      " - 1s - loss: 0.5208 - acc: 0.7880 - val_loss: 0.8216 - val_acc: 0.6400\n",
      "Epoch 19/100\n",
      " - 1s - loss: 0.5052 - acc: 0.7875 - val_loss: 0.7632 - val_acc: 0.6533\n",
      "Epoch 20/100\n",
      " - 1s - loss: 0.4922 - acc: 0.7855 - val_loss: 0.8003 - val_acc: 0.6733\n",
      "Epoch 21/100\n",
      " - 1s - loss: 0.4689 - acc: 0.8165 - val_loss: 0.8297 - val_acc: 0.6400\n",
      "Epoch 22/100\n",
      " - 1s - loss: 0.4737 - acc: 0.7955 - val_loss: 0.7855 - val_acc: 0.6733\n",
      "Epoch 23/100\n",
      " - 1s - loss: 0.4583 - acc: 0.8075 - val_loss: 0.8199 - val_acc: 0.6733\n",
      "Epoch 24/100\n",
      " - 1s - loss: 0.4714 - acc: 0.8055 - val_loss: 0.7748 - val_acc: 0.6667\n",
      "Epoch 25/100\n",
      " - 1s - loss: 0.4518 - acc: 0.8165 - val_loss: 0.7838 - val_acc: 0.6667\n",
      "Epoch 26/100\n",
      " - 1s - loss: 0.4441 - acc: 0.8220 - val_loss: 0.8156 - val_acc: 0.6733\n",
      "Epoch 27/100\n",
      " - 1s - loss: 0.4426 - acc: 0.8225 - val_loss: 0.8167 - val_acc: 0.6600\n",
      "Epoch 28/100\n",
      " - 1s - loss: 0.4514 - acc: 0.8165 - val_loss: 0.8228 - val_acc: 0.6667\n",
      "Epoch 29/100\n",
      " - 1s - loss: 0.4399 - acc: 0.8145 - val_loss: 0.8622 - val_acc: 0.6667\n",
      "Epoch 30/100\n",
      " - 1s - loss: 0.4420 - acc: 0.8090 - val_loss: 0.8271 - val_acc: 0.6733\n",
      "Epoch 31/100\n",
      " - 1s - loss: 0.4245 - acc: 0.8230 - val_loss: 0.7965 - val_acc: 0.6667\n",
      "Epoch 32/100\n",
      " - 1s - loss: 0.4057 - acc: 0.8340 - val_loss: 0.8408 - val_acc: 0.6600\n",
      "Epoch 33/100\n",
      " - 1s - loss: 0.4231 - acc: 0.8260 - val_loss: 0.8095 - val_acc: 0.6733\n",
      "Epoch 34/100\n",
      " - 1s - loss: 0.4089 - acc: 0.8295 - val_loss: 0.8148 - val_acc: 0.6533\n",
      "Epoch 35/100\n",
      " - 1s - loss: 0.4290 - acc: 0.8235 - val_loss: 0.8344 - val_acc: 0.6667\n",
      "Epoch 36/100\n",
      " - 1s - loss: 0.4167 - acc: 0.8340 - val_loss: 0.8333 - val_acc: 0.6400\n",
      "Epoch 37/100\n",
      " - 1s - loss: 0.4188 - acc: 0.8315 - val_loss: 0.7814 - val_acc: 0.6667\n",
      "Epoch 38/100\n",
      " - 1s - loss: 0.4073 - acc: 0.8395 - val_loss: 0.7899 - val_acc: 0.6533\n",
      "Epoch 39/100\n",
      " - 1s - loss: 0.4091 - acc: 0.8380 - val_loss: 0.7916 - val_acc: 0.6800\n",
      "Epoch 40/100\n",
      " - 1s - loss: 0.4164 - acc: 0.8240 - val_loss: 0.8464 - val_acc: 0.6600\n",
      "Epoch 41/100\n",
      " - 1s - loss: 0.4152 - acc: 0.8325 - val_loss: 0.8195 - val_acc: 0.6733\n",
      "Epoch 42/100\n",
      " - 1s - loss: 0.3831 - acc: 0.8420 - val_loss: 0.8077 - val_acc: 0.6600\n",
      "Epoch 43/100\n",
      " - 1s - loss: 0.4210 - acc: 0.8300 - val_loss: 0.8521 - val_acc: 0.6667\n",
      "Epoch 44/100\n",
      " - 1s - loss: 0.4011 - acc: 0.8300 - val_loss: 0.8968 - val_acc: 0.6733\n",
      "Epoch 45/100\n",
      " - 1s - loss: 0.4012 - acc: 0.8440 - val_loss: 0.9346 - val_acc: 0.6333\n",
      "Epoch 46/100\n",
      " - 1s - loss: 0.4050 - acc: 0.8365 - val_loss: 0.8325 - val_acc: 0.6800\n",
      "Epoch 47/100\n",
      " - 1s - loss: 0.4132 - acc: 0.8200 - val_loss: 0.8245 - val_acc: 0.6800\n",
      "Epoch 48/100\n",
      " - 1s - loss: 0.4010 - acc: 0.8385 - val_loss: 0.8225 - val_acc: 0.6733\n",
      "Epoch 49/100\n",
      " - 1s - loss: 0.3989 - acc: 0.8310 - val_loss: 0.8035 - val_acc: 0.6867\n",
      "Epoch 50/100\n",
      " - 1s - loss: 0.3938 - acc: 0.8485 - val_loss: 0.8091 - val_acc: 0.7067\n",
      "Epoch 51/100\n",
      " - 1s - loss: 0.3963 - acc: 0.8345 - val_loss: 0.8231 - val_acc: 0.6867\n",
      "Epoch 52/100\n",
      " - 1s - loss: 0.3810 - acc: 0.8470 - val_loss: 0.8209 - val_acc: 0.6600\n",
      "Epoch 53/100\n",
      " - 1s - loss: 0.3797 - acc: 0.8445 - val_loss: 0.7932 - val_acc: 0.6533\n",
      "Epoch 54/100\n",
      " - 1s - loss: 0.3642 - acc: 0.8530 - val_loss: 0.7964 - val_acc: 0.6733\n",
      "Epoch 55/100\n",
      " - 1s - loss: 0.3736 - acc: 0.8430 - val_loss: 0.8194 - val_acc: 0.6600\n",
      "Epoch 56/100\n",
      " - 1s - loss: 0.3639 - acc: 0.8495 - val_loss: 0.8324 - val_acc: 0.6600\n",
      "Epoch 57/100\n",
      " - 1s - loss: 0.3753 - acc: 0.8535 - val_loss: 0.8854 - val_acc: 0.6800\n",
      "Epoch 58/100\n",
      " - 1s - loss: 0.3577 - acc: 0.8480 - val_loss: 0.9184 - val_acc: 0.6800\n",
      "Epoch 59/100\n",
      " - 1s - loss: 0.3768 - acc: 0.8455 - val_loss: 0.9046 - val_acc: 0.6667\n",
      "Epoch 60/100\n",
      " - 1s - loss: 0.3754 - acc: 0.8470 - val_loss: 0.9138 - val_acc: 0.6800\n",
      "Epoch 61/100\n",
      " - 1s - loss: 0.3814 - acc: 0.8425 - val_loss: 0.8249 - val_acc: 0.6800\n",
      "Epoch 62/100\n",
      " - 1s - loss: 0.3487 - acc: 0.8510 - val_loss: 0.8569 - val_acc: 0.6800\n",
      "Epoch 63/100\n",
      " - 1s - loss: 0.3518 - acc: 0.8565 - val_loss: 0.8383 - val_acc: 0.6733\n",
      "Epoch 64/100\n",
      " - 1s - loss: 0.3599 - acc: 0.8555 - val_loss: 0.8513 - val_acc: 0.6800\n",
      "Epoch 65/100\n",
      " - 1s - loss: 0.3451 - acc: 0.8550 - val_loss: 0.8741 - val_acc: 0.6600\n",
      "Epoch 66/100\n",
      " - 1s - loss: 0.3460 - acc: 0.8605 - val_loss: 0.8494 - val_acc: 0.6733\n",
      "Epoch 67/100\n",
      " - 1s - loss: 0.3606 - acc: 0.8595 - val_loss: 0.8990 - val_acc: 0.6800\n",
      "Epoch 68/100\n",
      " - 1s - loss: 0.3632 - acc: 0.8550 - val_loss: 0.8653 - val_acc: 0.6467\n",
      "Epoch 69/100\n",
      " - 1s - loss: 0.3744 - acc: 0.8410 - val_loss: 0.9451 - val_acc: 0.6600\n",
      "Epoch 70/100\n",
      " - 1s - loss: 0.3569 - acc: 0.8465 - val_loss: 0.8577 - val_acc: 0.6667\n",
      "Epoch 71/100\n",
      " - 1s - loss: 0.3507 - acc: 0.8560 - val_loss: 0.8655 - val_acc: 0.6400\n",
      "Epoch 72/100\n",
      " - 1s - loss: 0.3501 - acc: 0.8540 - val_loss: 0.8743 - val_acc: 0.6667\n",
      "Epoch 73/100\n",
      " - 1s - loss: 0.3414 - acc: 0.8665 - val_loss: 0.8883 - val_acc: 0.6533\n",
      "Epoch 74/100\n",
      " - 1s - loss: 0.3210 - acc: 0.8695 - val_loss: 0.8961 - val_acc: 0.6533\n",
      "Epoch 75/100\n",
      " - 1s - loss: 0.3721 - acc: 0.8520 - val_loss: 0.9383 - val_acc: 0.6667\n",
      "Epoch 76/100\n",
      " - 1s - loss: 0.3343 - acc: 0.8680 - val_loss: 0.9434 - val_acc: 0.6467\n",
      "Epoch 77/100\n",
      " - 1s - loss: 0.3470 - acc: 0.8480 - val_loss: 0.9048 - val_acc: 0.6667\n",
      "Epoch 78/100\n",
      " - 1s - loss: 0.3210 - acc: 0.8715 - val_loss: 0.9202 - val_acc: 0.6533\n",
      "Epoch 79/100\n",
      " - 1s - loss: 0.3402 - acc: 0.8560 - val_loss: 0.8930 - val_acc: 0.6667\n",
      "Epoch 80/100\n",
      " - 1s - loss: 0.3362 - acc: 0.8620 - val_loss: 0.9039 - val_acc: 0.6600\n",
      "Epoch 81/100\n",
      " - 1s - loss: 0.3429 - acc: 0.8595 - val_loss: 0.9286 - val_acc: 0.6733\n",
      "Epoch 82/100\n",
      " - 1s - loss: 0.3378 - acc: 0.8645 - val_loss: 1.0305 - val_acc: 0.6867\n",
      "Epoch 83/100\n",
      " - 1s - loss: 0.3408 - acc: 0.8525 - val_loss: 0.9708 - val_acc: 0.6800\n",
      "Epoch 84/100\n",
      " - 1s - loss: 0.3435 - acc: 0.8545 - val_loss: 0.9469 - val_acc: 0.6733\n",
      "Epoch 85/100\n",
      " - 1s - loss: 0.3211 - acc: 0.8715 - val_loss: 0.9291 - val_acc: 0.6667\n",
      "Epoch 86/100\n",
      " - 1s - loss: 0.3312 - acc: 0.8595 - val_loss: 0.9082 - val_acc: 0.6667\n",
      "Epoch 87/100\n",
      " - 1s - loss: 0.3247 - acc: 0.8630 - val_loss: 0.9171 - val_acc: 0.6733\n",
      "Epoch 88/100\n",
      " - 1s - loss: 0.3306 - acc: 0.8680 - val_loss: 0.9221 - val_acc: 0.6800\n",
      "Epoch 89/100\n",
      " - 1s - loss: 0.3352 - acc: 0.8565 - val_loss: 0.8802 - val_acc: 0.6800\n",
      "Epoch 90/100\n",
      " - 1s - loss: 0.3101 - acc: 0.8700 - val_loss: 0.9027 - val_acc: 0.6867\n",
      "Epoch 91/100\n",
      " - 1s - loss: 0.3235 - acc: 0.8715 - val_loss: 0.9714 - val_acc: 0.6733\n",
      "Epoch 92/100\n",
      " - 1s - loss: 0.3225 - acc: 0.8705 - val_loss: 0.9041 - val_acc: 0.6800\n",
      "Epoch 93/100\n",
      " - 1s - loss: 0.3252 - acc: 0.8700 - val_loss: 0.9002 - val_acc: 0.6600\n",
      "Epoch 94/100\n",
      " - 1s - loss: 0.3147 - acc: 0.8765 - val_loss: 0.9632 - val_acc: 0.6667\n",
      "Epoch 95/100\n",
      " - 1s - loss: 0.3404 - acc: 0.8640 - val_loss: 0.9921 - val_acc: 0.6733\n",
      "Epoch 96/100\n",
      " - 1s - loss: 0.3263 - acc: 0.8650 - val_loss: 0.9968 - val_acc: 0.6667\n"
     ]
    },
    {
     "name": "stdout",
     "output_type": "stream",
     "text": [
      "Epoch 97/100\n",
      " - 1s - loss: 0.3357 - acc: 0.8600 - val_loss: 0.9289 - val_acc: 0.6667\n",
      "Epoch 98/100\n",
      " - 1s - loss: 0.3193 - acc: 0.8695 - val_loss: 0.9918 - val_acc: 0.6667\n",
      "Epoch 99/100\n",
      " - 1s - loss: 0.3324 - acc: 0.8550 - val_loss: 1.0470 - val_acc: 0.6600\n",
      "Epoch 100/100\n",
      " - 1s - loss: 0.3245 - acc: 0.8660 - val_loss: 0.9166 - val_acc: 0.7000\n"
     ]
    },
    {
     "data": {
      "text/plain": [
       "<keras.callbacks.History at 0x19798825080>"
      ]
     },
     "execution_count": 256,
     "metadata": {},
     "output_type": "execute_result"
    }
   ],
   "source": [
    "model.fit(train_features, train_labels, batch_size=256, epochs=100, \n",
    "          verbose=2, validation_data=(valid_features, valid_labels))"
   ]
  },
  {
   "cell_type": "code",
   "execution_count": 258,
   "metadata": {
    "collapsed": true
   },
   "outputs": [],
   "source": [
    "valid_preds = model.predict(valid_features)"
   ]
  },
  {
   "cell_type": "code",
   "execution_count": 259,
   "metadata": {},
   "outputs": [
    {
     "data": {
      "text/plain": [
       "array([[2.14200411e-02, 9.60145295e-01, 1.84346084e-02],\n",
       "       [1.30466267e-01, 1.47910535e-01, 7.21623182e-01],\n",
       "       [2.72153765e-01, 6.73933983e-01, 5.39122559e-02],\n",
       "       [7.46093038e-03, 9.90991354e-01, 1.54774857e-03],\n",
       "       [4.74968851e-01, 5.18103838e-01, 6.92735054e-03],\n",
       "       [2.78793484e-01, 7.07252979e-01, 1.39535507e-02],\n",
       "       [2.36961190e-02, 5.81128597e-01, 3.95175308e-01],\n",
       "       [7.54493833e-01, 1.07753336e-01, 1.37752831e-01],\n",
       "       [3.06966066e-01, 4.45830449e-02, 6.48450971e-01],\n",
       "       [4.10636567e-04, 9.98184860e-01, 1.40445458e-03],\n",
       "       [7.20855128e-03, 3.96574765e-01, 5.96216679e-01],\n",
       "       [2.57378012e-01, 7.00491607e-01, 4.21304218e-02],\n",
       "       [3.85845780e-01, 5.66184819e-01, 4.79693972e-02],\n",
       "       [4.37721550e-01, 3.44805717e-01, 2.17472687e-01],\n",
       "       [9.17475484e-03, 2.65156537e-01, 7.25668669e-01],\n",
       "       [2.32739486e-02, 3.63251790e-02, 9.40400839e-01],\n",
       "       [9.14500296e-01, 3.71761844e-02, 4.83235046e-02],\n",
       "       [8.39514434e-01, 1.55032724e-01, 5.45281498e-03],\n",
       "       [5.77712152e-03, 9.94187951e-01, 3.49840484e-05],\n",
       "       [7.03802168e-01, 2.52803147e-01, 4.33947407e-02],\n",
       "       [8.98278952e-02, 3.54655266e-01, 5.55516839e-01],\n",
       "       [4.36322361e-01, 5.42207122e-01, 2.14705113e-02],\n",
       "       [3.83594245e-01, 3.15737486e-01, 3.00668269e-01],\n",
       "       [6.87327981e-01, 2.35812202e-01, 7.68598020e-02],\n",
       "       [6.71539828e-02, 9.20005143e-01, 1.28408764e-02],\n",
       "       [3.27633917e-01, 4.90779996e-01, 1.81586072e-01],\n",
       "       [6.13464057e-01, 3.78177688e-02, 3.48718226e-01],\n",
       "       [2.41448209e-01, 7.58509994e-01, 4.17730844e-05],\n",
       "       [5.40378094e-01, 1.33017525e-01, 3.26604337e-01],\n",
       "       [2.13606227e-02, 8.88487637e-01, 9.01517123e-02],\n",
       "       [1.09290530e-04, 9.99453843e-01, 4.36891627e-04],\n",
       "       [6.69216388e-06, 9.99987006e-01, 6.36870845e-06],\n",
       "       [4.70450630e-07, 9.99999523e-01, 6.21069995e-09],\n",
       "       [1.28547017e-09, 1.00000000e+00, 1.92814475e-09],\n",
       "       [1.29660611e-06, 9.99822557e-01, 1.76120433e-04],\n",
       "       [7.74123473e-04, 9.99197900e-01, 2.79892065e-05],\n",
       "       [4.36805259e-08, 1.00000000e+00, 2.85471184e-08],\n",
       "       [5.10516329e-05, 9.99948740e-01, 2.33565601e-07],\n",
       "       [4.87680836e-06, 9.99964118e-01, 3.10405485e-05],\n",
       "       [5.42734575e-04, 9.99401093e-01, 5.61211709e-05],\n",
       "       [4.50766805e-07, 9.99999523e-01, 5.17215870e-09],\n",
       "       [5.51737798e-03, 9.93272126e-01, 1.21041888e-03],\n",
       "       [3.33307835e-05, 9.99843121e-01, 1.23514998e-04],\n",
       "       [9.12153428e-06, 9.99977231e-01, 1.35597802e-05],\n",
       "       [1.11251131e-04, 9.99888659e-01, 6.79621337e-08],\n",
       "       [2.92143511e-07, 9.99989271e-01, 1.04403680e-05],\n",
       "       [5.42707903e-06, 9.99796689e-01, 1.97842150e-04],\n",
       "       [1.85235862e-07, 9.99999642e-01, 1.32582741e-07],\n",
       "       [2.68700637e-06, 9.99964476e-01, 3.28056922e-05],\n",
       "       [6.51733208e-05, 9.99917746e-01, 1.70204403e-05],\n",
       "       [1.03477123e-05, 9.99918342e-01, 7.12302790e-05],\n",
       "       [4.42743567e-06, 9.99995351e-01, 2.51138147e-07],\n",
       "       [3.66593857e-04, 9.99586999e-01, 4.64849327e-05],\n",
       "       [2.08532155e-01, 7.88817346e-01, 2.65044323e-03],\n",
       "       [8.08988586e-02, 8.72604787e-01, 4.64962870e-02],\n",
       "       [1.47200242e-01, 8.42885673e-01, 9.91403777e-03],\n",
       "       [5.59118889e-05, 9.99852419e-01, 9.16002609e-05],\n",
       "       [1.12305991e-02, 9.82739210e-01, 6.03020051e-03],\n",
       "       [1.39674740e-02, 2.54964471e-01, 7.31068015e-01],\n",
       "       [1.37983963e-01, 7.09434688e-01, 1.52581438e-01],\n",
       "       [3.44570726e-01, 5.18467128e-01, 1.36962131e-01],\n",
       "       [6.20407879e-01, 3.61656487e-01, 1.79356597e-02],\n",
       "       [9.69157964e-02, 8.69217336e-01, 3.38668711e-02],\n",
       "       [1.69569924e-02, 9.67378020e-01, 1.56650152e-02],\n",
       "       [4.54734154e-02, 9.41544414e-01, 1.29822390e-02],\n",
       "       [1.88428331e-02, 2.04199359e-01, 7.76957870e-01],\n",
       "       [3.76892947e-02, 9.59382236e-01, 2.92847259e-03],\n",
       "       [3.92803885e-02, 9.01736379e-01, 5.89832105e-02],\n",
       "       [7.82989431e-03, 9.87915277e-01, 4.25491529e-03],\n",
       "       [1.55781023e-03, 5.57069719e-01, 4.41372514e-01],\n",
       "       [3.01056594e-01, 6.74170852e-01, 2.47725658e-02],\n",
       "       [1.07678384e-01, 8.90396774e-01, 1.92485051e-03],\n",
       "       [1.20823681e-02, 7.38639534e-01, 2.49278128e-01],\n",
       "       [3.53173882e-01, 3.55353713e-01, 2.91472316e-01],\n",
       "       [2.45063022e-01, 7.54243314e-01, 6.93693000e-04],\n",
       "       [6.27768785e-02, 9.26320255e-01, 1.09029533e-02],\n",
       "       [1.13890320e-03, 5.50210357e-01, 4.48650718e-01],\n",
       "       [1.91140696e-02, 9.79536235e-01, 1.34979852e-03],\n",
       "       [5.15809443e-05, 9.97624457e-01, 2.32391921e-03],\n",
       "       [1.07720280e-02, 9.19322193e-01, 6.99058026e-02],\n",
       "       [3.69507889e-03, 5.39837539e-01, 4.56467360e-01],\n",
       "       [3.80631089e-02, 9.32261050e-01, 2.96757873e-02],\n",
       "       [3.73009801e-01, 6.08085811e-01, 1.89044047e-02],\n",
       "       [7.61649353e-05, 9.98677552e-01, 1.24623720e-03],\n",
       "       [1.89455047e-01, 7.45323241e-01, 6.52217418e-02],\n",
       "       [2.15096006e-04, 2.01493189e-01, 7.98291683e-01],\n",
       "       [7.59822667e-01, 1.45336241e-01, 9.48410407e-02],\n",
       "       [1.24592427e-03, 6.15532458e-01, 3.83221567e-01],\n",
       "       [4.77142066e-01, 5.02217472e-01, 2.06405073e-02],\n",
       "       [5.85737705e-01, 4.12757963e-01, 1.50434102e-03],\n",
       "       [5.92437573e-02, 8.83569777e-01, 5.71864918e-02],\n",
       "       [2.67441804e-03, 9.82929826e-01, 1.43957511e-02],\n",
       "       [8.72789979e-01, 8.27636868e-02, 4.44463342e-02],\n",
       "       [6.48316219e-02, 6.90235794e-01, 2.44932577e-01],\n",
       "       [1.07702173e-01, 8.91745090e-01, 5.52721845e-04],\n",
       "       [2.88849091e-03, 9.96079624e-01, 1.03186734e-03],\n",
       "       [2.31641129e-01, 7.62589276e-01, 5.76951867e-03],\n",
       "       [1.60438307e-02, 9.83332992e-01, 6.23114873e-04],\n",
       "       [8.93451869e-01, 1.06547400e-01, 7.10199345e-07],\n",
       "       [2.55286425e-01, 7.43308902e-01, 1.40472758e-03],\n",
       "       [1.91298667e-02, 9.80647862e-01, 2.22278351e-04],\n",
       "       [4.65136379e-01, 5.14720917e-01, 2.01426353e-02],\n",
       "       [7.80993048e-03, 8.52681339e-01, 1.39508799e-01],\n",
       "       [1.36261981e-04, 2.28211284e-01, 7.71652520e-01],\n",
       "       [2.10917182e-03, 9.82181072e-01, 1.57097559e-02],\n",
       "       [2.35409230e-01, 7.60187209e-01, 4.40359255e-03],\n",
       "       [3.93528379e-02, 9.60529447e-01, 1.17712887e-04],\n",
       "       [1.60207146e-05, 9.99850154e-01, 1.33836322e-04],\n",
       "       [1.98902027e-03, 7.48993009e-02, 9.23111737e-01],\n",
       "       [6.15268713e-03, 1.26180083e-01, 8.67667198e-01],\n",
       "       [9.50323939e-02, 8.99957657e-01, 5.00989519e-03],\n",
       "       [1.17337190e-01, 1.44205585e-01, 7.38457203e-01],\n",
       "       [1.85305811e-02, 2.20428139e-01, 7.61041284e-01],\n",
       "       [9.82313901e-02, 8.90364349e-01, 1.14041371e-02],\n",
       "       [7.77313530e-01, 9.35990438e-02, 1.29087433e-01],\n",
       "       [9.00761664e-01, 7.47486874e-02, 2.44896170e-02],\n",
       "       [3.09896227e-02, 3.78273010e-01, 5.90737343e-01],\n",
       "       [2.41657540e-01, 1.19369283e-01, 6.38973117e-01],\n",
       "       [5.44806826e-04, 1.75091594e-01, 8.24363530e-01],\n",
       "       [9.97701660e-03, 3.33827078e-01, 6.56195939e-01],\n",
       "       [2.81575893e-04, 7.14549273e-02, 9.28263545e-01],\n",
       "       [1.38767650e-02, 9.79107797e-01, 7.01541826e-03],\n",
       "       [1.41206558e-03, 4.66067865e-02, 9.51981068e-01],\n",
       "       [7.94710517e-02, 2.27328435e-01, 6.93200529e-01],\n",
       "       [2.68587440e-01, 5.15859067e-01, 2.15553433e-01],\n",
       "       [5.25917718e-03, 1.55506372e-01, 8.39234412e-01],\n",
       "       [2.51537990e-02, 7.22037315e-01, 2.52808839e-01],\n",
       "       [5.97369634e-02, 7.40262985e-01, 2.00000077e-01],\n",
       "       [6.03263676e-01, 1.29882663e-01, 2.66853660e-01],\n",
       "       [7.20451307e-03, 3.52709219e-02, 9.57524538e-01],\n",
       "       [8.30452144e-03, 7.69871250e-02, 9.14708316e-01],\n",
       "       [1.91092238e-01, 7.58079290e-01, 5.08285239e-02],\n",
       "       [7.87936628e-01, 1.04606800e-01, 1.07456647e-01],\n",
       "       [2.33024359e-03, 3.36141698e-02, 9.64055538e-01],\n",
       "       [3.68583798e-02, 8.86139989e-01, 7.70016164e-02],\n",
       "       [2.40875315e-03, 3.77637982e-01, 6.19953215e-01],\n",
       "       [5.58186264e-04, 1.99026777e-04, 9.99242783e-01],\n",
       "       [1.12020280e-02, 5.26120588e-02, 9.36185956e-01],\n",
       "       [2.02793926e-01, 7.70665348e-01, 2.65407562e-02],\n",
       "       [5.26917763e-02, 8.38431418e-01, 1.08876705e-01],\n",
       "       [8.76782648e-03, 3.90872300e-01, 6.00359917e-01],\n",
       "       [1.68367736e-02, 3.68177593e-02, 9.46345508e-01],\n",
       "       [6.92560291e-03, 1.00314226e-02, 9.83042896e-01],\n",
       "       [2.11877860e-02, 5.56955859e-02, 9.23116624e-01],\n",
       "       [8.80980585e-03, 1.73623562e-01, 8.17566633e-01],\n",
       "       [6.97494019e-04, 1.49238408e-01, 8.50064158e-01],\n",
       "       [9.61984694e-02, 5.25735244e-02, 8.51228058e-01],\n",
       "       [5.19988239e-01, 4.39478755e-01, 4.05330062e-02],\n",
       "       [5.23131005e-02, 6.50564060e-02, 8.82630467e-01],\n",
       "       [3.28985206e-03, 1.34413608e-03, 9.95365977e-01]], dtype=float32)"
      ]
     },
     "execution_count": 259,
     "metadata": {},
     "output_type": "execute_result"
    }
   ],
   "source": [
    "valid_preds"
   ]
  },
  {
   "cell_type": "code",
   "execution_count": 260,
   "metadata": {
    "collapsed": true
   },
   "outputs": [],
   "source": [
    "test_preds = model.predict(test_features)"
   ]
  },
  {
   "cell_type": "code",
   "execution_count": 261,
   "metadata": {
    "collapsed": true
   },
   "outputs": [],
   "source": [
    "import pandas as pd"
   ]
  },
  {
   "cell_type": "code",
   "execution_count": 262,
   "metadata": {
    "collapsed": true
   },
   "outputs": [],
   "source": [
    "df = pd.read_csv('sample_predictions.csv')"
   ]
  },
  {
   "cell_type": "code",
   "execution_count": 263,
   "metadata": {},
   "outputs": [
    {
     "data": {
      "text/html": [
       "<div>\n",
       "<style scoped>\n",
       "    .dataframe tbody tr th:only-of-type {\n",
       "        vertical-align: middle;\n",
       "    }\n",
       "\n",
       "    .dataframe tbody tr th {\n",
       "        vertical-align: top;\n",
       "    }\n",
       "\n",
       "    .dataframe thead th {\n",
       "        text-align: right;\n",
       "    }\n",
       "</style>\n",
       "<table border=\"1\" class=\"dataframe\">\n",
       "  <thead>\n",
       "    <tr style=\"text-align: right;\">\n",
       "      <th></th>\n",
       "      <th>Id</th>\n",
       "      <th>task_1</th>\n",
       "      <th>task_2</th>\n",
       "    </tr>\n",
       "  </thead>\n",
       "  <tbody>\n",
       "    <tr>\n",
       "      <th>0</th>\n",
       "      <td>data/test/melanoma/ISIC_0012258.jpg</td>\n",
       "      <td>0.0</td>\n",
       "      <td>0.0</td>\n",
       "    </tr>\n",
       "    <tr>\n",
       "      <th>1</th>\n",
       "      <td>data/test/melanoma/ISIC_0012356.jpg</td>\n",
       "      <td>0.0</td>\n",
       "      <td>0.0</td>\n",
       "    </tr>\n",
       "    <tr>\n",
       "      <th>2</th>\n",
       "      <td>data/test/melanoma/ISIC_0012369.jpg</td>\n",
       "      <td>0.0</td>\n",
       "      <td>0.0</td>\n",
       "    </tr>\n",
       "    <tr>\n",
       "      <th>3</th>\n",
       "      <td>data/test/melanoma/ISIC_0012395.jpg</td>\n",
       "      <td>0.0</td>\n",
       "      <td>0.0</td>\n",
       "    </tr>\n",
       "    <tr>\n",
       "      <th>4</th>\n",
       "      <td>data/test/melanoma/ISIC_0012425.jpg</td>\n",
       "      <td>0.0</td>\n",
       "      <td>0.0</td>\n",
       "    </tr>\n",
       "  </tbody>\n",
       "</table>\n",
       "</div>"
      ],
      "text/plain": [
       "                                    Id  task_1  task_2\n",
       "0  data/test/melanoma/ISIC_0012258.jpg     0.0     0.0\n",
       "1  data/test/melanoma/ISIC_0012356.jpg     0.0     0.0\n",
       "2  data/test/melanoma/ISIC_0012369.jpg     0.0     0.0\n",
       "3  data/test/melanoma/ISIC_0012395.jpg     0.0     0.0\n",
       "4  data/test/melanoma/ISIC_0012425.jpg     0.0     0.0"
      ]
     },
     "execution_count": 263,
     "metadata": {},
     "output_type": "execute_result"
    }
   ],
   "source": [
    "df.head()"
   ]
  },
  {
   "cell_type": "code",
   "execution_count": 264,
   "metadata": {},
   "outputs": [
    {
     "data": {
      "text/plain": [
       "(600, 3)"
      ]
     },
     "execution_count": 264,
     "metadata": {},
     "output_type": "execute_result"
    }
   ],
   "source": [
    "df.shape"
   ]
  },
  {
   "cell_type": "code",
   "execution_count": 265,
   "metadata": {},
   "outputs": [
    {
     "data": {
      "text/plain": [
       "(600, 3)"
      ]
     },
     "execution_count": 265,
     "metadata": {},
     "output_type": "execute_result"
    }
   ],
   "source": [
    "test_preds.shape"
   ]
  },
  {
   "cell_type": "code",
   "execution_count": 266,
   "metadata": {
    "collapsed": true
   },
   "outputs": [],
   "source": [
    "df['task_1'] = test_preds[:,0]\n",
    "df['task_2'] = test_preds[:,2]"
   ]
  },
  {
   "cell_type": "code",
   "execution_count": 267,
   "metadata": {},
   "outputs": [
    {
     "data": {
      "text/html": [
       "<div>\n",
       "<style scoped>\n",
       "    .dataframe tbody tr th:only-of-type {\n",
       "        vertical-align: middle;\n",
       "    }\n",
       "\n",
       "    .dataframe tbody tr th {\n",
       "        vertical-align: top;\n",
       "    }\n",
       "\n",
       "    .dataframe thead th {\n",
       "        text-align: right;\n",
       "    }\n",
       "</style>\n",
       "<table border=\"1\" class=\"dataframe\">\n",
       "  <thead>\n",
       "    <tr style=\"text-align: right;\">\n",
       "      <th></th>\n",
       "      <th>Id</th>\n",
       "      <th>task_1</th>\n",
       "      <th>task_2</th>\n",
       "    </tr>\n",
       "  </thead>\n",
       "  <tbody>\n",
       "    <tr>\n",
       "      <th>0</th>\n",
       "      <td>data/test/melanoma/ISIC_0012258.jpg</td>\n",
       "      <td>0.115200</td>\n",
       "      <td>0.589082</td>\n",
       "    </tr>\n",
       "    <tr>\n",
       "      <th>1</th>\n",
       "      <td>data/test/melanoma/ISIC_0012356.jpg</td>\n",
       "      <td>0.136392</td>\n",
       "      <td>0.399431</td>\n",
       "    </tr>\n",
       "    <tr>\n",
       "      <th>2</th>\n",
       "      <td>data/test/melanoma/ISIC_0012369.jpg</td>\n",
       "      <td>0.518980</td>\n",
       "      <td>0.094591</td>\n",
       "    </tr>\n",
       "    <tr>\n",
       "      <th>3</th>\n",
       "      <td>data/test/melanoma/ISIC_0012395.jpg</td>\n",
       "      <td>0.093911</td>\n",
       "      <td>0.299976</td>\n",
       "    </tr>\n",
       "    <tr>\n",
       "      <th>4</th>\n",
       "      <td>data/test/melanoma/ISIC_0012425.jpg</td>\n",
       "      <td>0.001671</td>\n",
       "      <td>0.018164</td>\n",
       "    </tr>\n",
       "  </tbody>\n",
       "</table>\n",
       "</div>"
      ],
      "text/plain": [
       "                                    Id    task_1    task_2\n",
       "0  data/test/melanoma/ISIC_0012258.jpg  0.115200  0.589082\n",
       "1  data/test/melanoma/ISIC_0012356.jpg  0.136392  0.399431\n",
       "2  data/test/melanoma/ISIC_0012369.jpg  0.518980  0.094591\n",
       "3  data/test/melanoma/ISIC_0012395.jpg  0.093911  0.299976\n",
       "4  data/test/melanoma/ISIC_0012425.jpg  0.001671  0.018164"
      ]
     },
     "execution_count": 267,
     "metadata": {},
     "output_type": "execute_result"
    }
   ],
   "source": [
    "df.head()"
   ]
  },
  {
   "cell_type": "code",
   "execution_count": 268,
   "metadata": {
    "collapsed": true
   },
   "outputs": [],
   "source": [
    "df.to_csv('predictions_mine.csv', index=False)"
   ]
  },
  {
   "cell_type": "code",
   "execution_count": null,
   "metadata": {
    "collapsed": true
   },
   "outputs": [],
   "source": []
  }
 ],
 "metadata": {
  "kernelspec": {
   "display_name": "Python 3",
   "language": "python",
   "name": "python3"
  },
  "language_info": {
   "codemirror_mode": {
    "name": "ipython",
    "version": 3
   },
   "file_extension": ".py",
   "mimetype": "text/x-python",
   "name": "python",
   "nbconvert_exporter": "python",
   "pygments_lexer": "ipython3",
   "version": "3.6.3"
  }
 },
 "nbformat": 4,
 "nbformat_minor": 2
}
